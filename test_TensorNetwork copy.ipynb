{
 "cells": [
  {
   "cell_type": "markdown",
   "metadata": {},
   "source": [
    "## 测试mps态"
   ]
  },
  {
   "cell_type": "code",
   "execution_count": 1,
   "metadata": {},
   "outputs": [],
   "source": [
    "import Library.TensorNetwork as TN\n",
    "import torch as tc"
   ]
  },
  {
   "cell_type": "code",
   "execution_count": 2,
   "metadata": {},
   "outputs": [
    {
     "name": "stdout",
     "output_type": "stream",
     "text": [
      "tensor([1.0000, 1.0000])\n",
      "1\n",
      "tensor([1.0000+0.j, 1.0000+0.j])\n"
     ]
    }
   ],
   "source": [
    "mps = TN.rand_mps_pack(number=2, length=3, chi=4, phydim=2)\n",
    "print(mps.get_norm())\n",
    "print(mps.center)\n",
    "print(TN.inner_mps_pack(mps, mps))"
   ]
  },
  {
   "cell_type": "markdown",
   "metadata": {},
   "source": [
    "将大张量表示的量子态转化为mps态，并计算误差"
   ]
  },
  {
   "cell_type": "code",
   "execution_count": 3,
   "metadata": {},
   "outputs": [
    {
     "name": "stdout",
     "output_type": "stream",
     "text": [
      "torch.Size([2, 2, 2, 2])\n",
      "torch.Size([2, 1, 2, 2, 2, 1])\n",
      "tensor(3.9952e-07)\n"
     ]
    }
   ],
   "source": [
    "number = 2\n",
    "length = 3\n",
    "dtype = tc.complex64\n",
    "device = tc.device('cpu')\n",
    "shape = [number, 2 ** length]\n",
    "states = tc.randn(shape, dtype=dtype, device=device)\n",
    "shape_ = [number] + [2]*length\n",
    "norm = tc.sum(states * states.conj(), dim=1, keepdim=True)\n",
    "states = states / tc.sqrt(norm)\n",
    "states = states.reshape(shape_)\n",
    "print(states.shape)\n",
    "mps_ = TN.TensorTrain_pack(tensor_packs=[states], length=length, phydim=2, center=-1, chi=8, device=device, dtype=dtype, initialize=True)\n",
    "mps_copy = TN.copy_from_mps_pack(mps_)\n",
    "mps_copy.merge_all()\n",
    "print(mps_copy.node_list[0].shape)\n",
    "print(tc.dist(mps_copy.node_list[0].squeeze(), states))"
   ]
  },
  {
   "cell_type": "markdown",
   "metadata": {},
   "source": [
    "将n体门转化为mpo，并计算和转化前的误差"
   ]
  },
  {
   "cell_type": "code",
   "execution_count": 4,
   "metadata": {},
   "outputs": [
    {
     "name": "stdout",
     "output_type": "stream",
     "text": [
      "[2, 2, 2, 2]\n",
      "\n",
      "torch.Size([1, 2, 2, 4])\n",
      "torch.Size([4, 2, 2, 1])\n",
      "torch.Size([2, 2, 2, 2])\n",
      "tensor(0.)\n"
     ]
    }
   ],
   "source": [
    "n = 2\n",
    "shape = [2] * (n*2)\n",
    "n_body_op = tc.rand(shape, dtype=dtype, device=device)\n",
    "print(list(n_body_op.shape))\n",
    "gate_list = TN.n_body_gate_to_mpo(n_body_op, n, dtype=dtype, device=device)\n",
    "print('')\n",
    "for gate in gate_list:\n",
    "    print(gate.shape)\n",
    "gate_U = tc.einsum('abcd, defg -> abecfg', gate_list[0], gate_list[1])\n",
    "print(gate_U.squeeze().shape)\n",
    "print(tc.dist(gate_U.squeeze(), n_body_op))"
   ]
  },
  {
   "cell_type": "code",
   "execution_count": 6,
   "metadata": {},
   "outputs": [
    {
     "name": "stdout",
     "output_type": "stream",
     "text": [
      "tensor([1.+0.j])\n",
      "torch.Size([1, 2, 2])\n",
      "tensor(1.7568e-07) \n",
      "\n",
      "[2, 2, 2, 2]\n",
      "torch.Size([2, 2, 2, 2])\n",
      "gates:\n",
      "torch.Size([2, 2, 4])\n",
      "torch.Size([4, 2, 2])\n",
      "states_act_U.shape\n",
      "torch.Size([1, 2, 2])\n",
      "\n",
      "mps_act_U node shape:\n",
      "torch.Size([1, 1, 2, 8])\n",
      "torch.Size([1, 8, 2, 1])\n",
      "\n",
      "merge(0,1)->node0.shape\n",
      "torch.Size([2, 2])\n",
      "\n",
      "distance between mps and states_act_U\n",
      "tensor(1.7061)\n"
     ]
    }
   ],
   "source": [
    "number = 1\n",
    "length = 2\n",
    "dtype = tc.complex64\n",
    "device = tc.device('cpu')\n",
    "shape = [number, 2 ** length]\n",
    "states = tc.randn(shape, dtype=dtype, device=device)\n",
    "shape_ = [number] + [2]*length\n",
    "norm = tc.sum(states * states.conj(), dim=1, keepdim=True)\n",
    "states = states / tc.sqrt(norm)\n",
    "print(tc.einsum('ni, ni -> n', states, states.conj()))\n",
    "\n",
    "states = states.reshape(shape_)\n",
    "print(states.shape)\n",
    "\n",
    "mps = TN.TensorTrain_pack(tensor_packs=[states], length=length, phydim=2, center=-1, chi=8, device=device, dtype=dtype, initialize=True)\n",
    "\n",
    "copy = TN.copy_from_mps_pack(mps)\n",
    "copy.merge_all()\n",
    "print(tc.dist(copy.node_list[0].squeeze(), states), '\\n')\n",
    "\n",
    "n = 2\n",
    "shape = [2] * (n*2)\n",
    "A = tc.rand(shape, dtype=dtype, device=device).reshape([2 ** n, 2 ** n])\n",
    "H = 0.5 * (A + A.conj().T)\n",
    "\n",
    "print(list(n_body_op.shape))\n",
    "\n",
    "gate_U = tc.matrix_exp(1.j * H).reshape(shape)\n",
    "print(gate_U.shape)\n",
    "gates = TN.n_body_gate_to_mpo(gate_U, 2, dtype=dtype, device=device)\n",
    "print('gates:')\n",
    "for gate in gates:\n",
    "    print(gate.squeeze().shape)\n",
    "# print(tc.einsum('ij, kj-> ik', gate_U, gate_U.conj()))\n",
    "states_act_U = tc.einsum('aci, ibd, ncd -> nab', gates[0].squeeze(), gates[1].squeeze(), states)\n",
    "states_act_U = states_act_U.reshape([number] + [2]*length)\n",
    "print('states_act_U.shape')\n",
    "print(states_act_U.shape)\n",
    "print()\n",
    "\n",
    "mps.act_n_body_gate(n_body_op, [0, 1])\n",
    "print('mps_act_U node shape:')\n",
    "for node in mps.node_list:\n",
    "    print(node.shape)\n",
    "print()\n",
    "\n",
    "mps.merge_nodes((0,1))\n",
    "print('merge(0,1)->node0.shape')\n",
    "print(mps.node_list[0].squeeze().shape)\n",
    "print()\n",
    "\n",
    "print('distance between mps and states_act_U')\n",
    "print(tc.dist(mps.node_list[0].squeeze(), states_act_U.squeeze()))"
   ]
  },
  {
   "cell_type": "code",
   "execution_count": 7,
   "metadata": {},
   "outputs": [
    {
     "name": "stdout",
     "output_type": "stream",
     "text": [
      "torch.Size([1, 2, 4, 5, 3])\n"
     ]
    }
   ],
   "source": [
    "a = tc.rand([1,2,3,4,5])\n",
    "b = a.permute(0, 1, 3, 4, 2)\n",
    "print(b.shape)"
   ]
  },
  {
   "cell_type": "code",
   "execution_count": 8,
   "metadata": {},
   "outputs": [
    {
     "name": "stdout",
     "output_type": "stream",
     "text": [
      "[0, 1, 3, 4, 2]\n"
     ]
    }
   ],
   "source": [
    "def convert_cycle_to_full_sequence(cycle, length):\n",
    "    # 初始化完整序列为原始顺序\n",
    "    full_sequence = list(range(length))\n",
    "    \n",
    "    # 应用轮换表示\n",
    "    for i in range(len(cycle) - 1):\n",
    "        full_sequence[cycle[i]], full_sequence[cycle[i + 1]] = full_sequence[cycle[i + 1]], full_sequence[cycle[i]]\n",
    "    \n",
    "    return full_sequence\n",
    "\n",
    "print(convert_cycle_to_full_sequence(cycle=[2, 3, 4], length=5))"
   ]
  },
  {
   "cell_type": "markdown",
   "metadata": {},
   "source": [
    "merge和permute操作没有bug"
   ]
  },
  {
   "cell_type": "code",
   "execution_count": 10,
   "metadata": {},
   "outputs": [
    {
     "name": "stdout",
     "output_type": "stream",
     "text": [
      "before act gate: site 0: torch.Size([3, 1, 2, 2]) site 1: torch.Size([3, 2, 2, 1])\n",
      "{(0, 1): [(3, 1)]}\n",
      "torch.Size([3, 1, 2, 2, 1])\n",
      "torch.Size([1, 2, 2, 4])\n",
      "torch.Size([4, 2, 2, 1])\n",
      "gate shape: gate 0: torch.Size([1, 2, 2, 4]) gate 1: torch.Size([4, 2, 2, 1])\n",
      "after act gate: site 0: torch.Size([3, 1, 2, 4, 2]) site 1: torch.Size([3, 2, 4, 2, 1])\n",
      "{(0, 1): [(4, 1), (3, 2)]}\n",
      "torch.Size([3, 1, 2, 2, 1]) torch.Size([3, 1, 2, 2, 1])\n",
      "tensor(2.9200e-07)\n",
      "tensor(0.)\n"
     ]
    }
   ],
   "source": [
    "a_list = [tc.rand(3, 1, 2, 2), tc.rand(3, 2, 2, 1)]\n",
    "a = TN.TensorTrain_pack(tensor_packs=a_list, length=2, chi=4, device=tc.device('cpu'), dtype=tc.complex64, initialize=False)\n",
    "a_copy = TN.copy_from_mps_pack(a)\n",
    "\n",
    "print('before act gate:', 'site 0:', a.node_list[0].shape, 'site 1:', a.node_list[1].shape)\n",
    "# a.connect([0, 3], [1, 1])\n",
    "# a.connect([1, 3], [2, 1])\n",
    "U = tc.rand(2, 2, 2, 2, device=tc.device('cpu'), dtype=tc.complex64)\n",
    "pos = [0, 1]\n",
    "\n",
    "a_copy.act_n_body_gate(U, pos)\n",
    "print(a_copy.connect_graph)\n",
    "a_copy.merge_all()\n",
    "a__ = a_copy.node_list[0]\n",
    "print(a__.shape)\n",
    "\n",
    "gates = TN.n_body_gate_to_mpo(U, 2, dtype=tc.complex64, device=tc.device('cpu'))\n",
    "U1 = gates[0]\n",
    "print(U1.shape)\n",
    "# U1 = tc.rand(2, 2, 4, device=tc.device('cpu'), dtype=tc.complex64)\n",
    "a.add_node(gates[0].squeeze(), site=pos[0]+1, device=a.device, dtype=a.dtype)\n",
    "# a.add_node(U1.squeeze(), site=1, device=tc.device('cpu'), dtype=tc.complex64)\n",
    "a.connect([pos[0], 2], [pos[0]+1, 1])\n",
    "a.merge_nodes((pos[0], pos[0]+1), is_gate=(False, True))\n",
    "a.permute_legs(pos[0], cycle=[2, 3, 4])\n",
    "# a.connect([0, 2], [1, 1])\n",
    "# a.merge_nodes((0, 1), is_gate=(False, True))\n",
    "# a.permute_legs(node_idx=0, cycle=[2, 3, 4])\n",
    "U2 = gates[1]\n",
    "print(U2.shape)\n",
    "# U2 = tc.rand(4, 2, 2, device=tc.device('cpu'), dtype=tc.complex64)\n",
    "\n",
    "a.add_node(gates[-1].squeeze(), site=pos[-1]+1, device=a.device, dtype=a.dtype)\n",
    "a.connect([pos[-1], -2], [pos[-1]+1, 2])\n",
    "a.connect([pos[-1]-1, -2], [pos[-1]+1, 0])\n",
    "a.merge_nodes((pos[-1], pos[-1]+1), is_gate=(False, True))\n",
    "a.permute_legs(pos[-1], cycle=[2, 3, 4])\n",
    "\n",
    "# a.add_node(U2.squeeze(), site=2, device=tc.device('cpu'), dtype=tc.complex64)\n",
    "# a.connect([1, -2], [2, 2])\n",
    "# a.connect([0, -2], [2, 0])\n",
    "# a.merge_nodes((1, 2), is_gate=(False, True))\n",
    "# a.permute_legs(node_idx=1, cycle=[2, 3, 4])\n",
    "\n",
    "b1 = a.node_list[0]\n",
    "b2 = a.node_list[1]\n",
    "print('gate shape:', 'gate 0:', U1.shape, 'gate 1:', U2.shape)\n",
    "print('after act gate:', 'site 0:', b1.shape, 'site 1:', b2.shape)\n",
    "print(a.connect_graph)\n",
    "a.merge_nodes(node_pair=(0,1), is_gate=(False, False))\n",
    "c = a.node_list[0]\n",
    "d = tc.einsum('aijkl, alkmn -> aijmn', b1, b2)\n",
    "print(c.shape, d.shape)\n",
    "print(tc.dist(c, d))\n",
    "\n",
    "print(tc.dist(a__.squeeze(), c.squeeze()))"
   ]
  },
  {
   "cell_type": "code",
   "execution_count": 12,
   "metadata": {},
   "outputs": [
    {
     "name": "stdout",
     "output_type": "stream",
     "text": [
      "0.048668622970581055\n",
      "0.0\n"
     ]
    }
   ],
   "source": [
    "import time\n",
    "length = 10\n",
    "number = 5\n",
    "shape = [number] + [2] * length\n",
    "t1 = time.time()\n",
    "a_list = [tc.rand(shape, device=tc.device('cpu'), dtype=tc.complex64)]\n",
    "a = TN.TensorTrain_pack(tensor_packs=a_list, length=length, chi=16, device=tc.device('cpu'), dtype=tc.complex64, initialize=True)\n",
    "gate = tc.eye(4, device=tc.device('cpu'), dtype=tc.complex64).reshape([2, 2, 2, 2])\n",
    "for _ in range(1):\n",
    "    for i in range(9):\n",
    "        a.act_n_body_gate(gate=gate, pos=[i, i+1])\n",
    "t2 = time.time()\n",
    "print(t2-t1)\n",
    "b = a_list[0]\n",
    "for _ in range(9):\n",
    "    b = tc.einsum('ab, nbc -> nac', gate.reshape([4, 4]), b.reshape([number, 4, -1])).reshape(shape)\n",
    "t3 = time.time()\n",
    "print(t3-t2)"
   ]
  }
 ],
 "metadata": {
  "kernelspec": {
   "display_name": "myname",
   "language": "python",
   "name": "python3"
  },
  "language_info": {
   "codemirror_mode": {
    "name": "ipython",
    "version": 3
   },
   "file_extension": ".py",
   "mimetype": "text/x-python",
   "name": "python",
   "nbconvert_exporter": "python",
   "pygments_lexer": "ipython3",
   "version": "3.9.21"
  }
 },
 "nbformat": 4,
 "nbformat_minor": 2
}
