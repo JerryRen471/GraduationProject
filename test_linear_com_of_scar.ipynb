{
 "cells": [
  {
   "cell_type": "markdown",
   "metadata": {},
   "source": [
    "测试 WorkFlow.InitStates 中的 linear_comb_of_scar_states() 函数"
   ]
  },
  {
   "cell_type": "code",
   "execution_count": 1,
   "metadata": {},
   "outputs": [],
   "source": [
    "import torch as tc\n",
    "import numpy as np\n",
    "\n",
    "from WorkFlow.InitStates import xorX_state_m"
   ]
  },
  {
   "cell_type": "code",
   "execution_count": 2,
   "metadata": {},
   "outputs": [
    {
     "name": "stdout",
     "output_type": "stream",
     "text": [
      "torch.Size([1, 2, 2, 2, 2, 2, 2])\n"
     ]
    }
   ],
   "source": [
    "state = xorX_state_m(1, 6, device=tc.device('cpu'), dtype=tc.complex64)\n",
    "print(state.shape)"
   ]
  },
  {
   "cell_type": "code",
   "execution_count": 3,
   "metadata": {},
   "outputs": [],
   "source": [
    "def linear_comb_of_scar_states(number:int, length:int, device=tc.device('cuda:0'), dtype=tc.complex128, **kwargs):\n",
    "    coefficients = np.random.random(size=[number, length//2]) + 1.j * np.random.random(size=[number, length//2])\n",
    "    norm = np.sum(coefficients * coefficients.conj(), axis=1, keepdims=True).real\n",
    "    coefficients = coefficients / np.sqrt(norm)\n",
    "    coefficients = tc.from_numpy(coefficients).to(device=device, dtype=dtype)\n",
    "    states = tc.zeros(size=[number]+[2]*length, device=device, dtype=dtype)\n",
    "    for i in range(length // 2):\n",
    "        states = states + tc.einsum('ij, jk...l->ik...l', coefficients[:, i].unsqueeze(1), xorX_state_m(i, length, device, dtype))\n",
    "        pass\n",
    "    return states"
   ]
  },
  {
   "cell_type": "code",
   "execution_count": 4,
   "metadata": {},
   "outputs": [],
   "source": [
    "states = linear_comb_of_scar_states(number=1, length=10, device=tc.device('cpu'), dtype=tc.complex64)"
   ]
  },
  {
   "cell_type": "code",
   "execution_count": 5,
   "metadata": {},
   "outputs": [
    {
     "name": "stdout",
     "output_type": "stream",
     "text": [
      "torch.Size([1, 2, 2, 2, 2, 2, 2, 2, 2, 2, 2])\n"
     ]
    }
   ],
   "source": [
    "print(states.shape)"
   ]
  },
  {
   "cell_type": "code",
   "execution_count": 7,
   "metadata": {},
   "outputs": [
    {
     "name": "stdout",
     "output_type": "stream",
     "text": [
      "tensor([1.0000+2.7061e-09j])\n"
     ]
    }
   ],
   "source": [
    "states = states.reshape([1, -1])\n",
    "norm = tc.einsum('ni, ni->n', states, states.conj())\n",
    "print(norm)"
   ]
  }
 ],
 "metadata": {
  "kernelspec": {
   "display_name": "myname",
   "language": "python",
   "name": "python3"
  },
  "language_info": {
   "codemirror_mode": {
    "name": "ipython",
    "version": 3
   },
   "file_extension": ".py",
   "mimetype": "text/x-python",
   "name": "python",
   "nbconvert_exporter": "python",
   "pygments_lexer": "ipython3",
   "version": "3.9.19"
  }
 },
 "nbformat": 4,
 "nbformat_minor": 2
}
