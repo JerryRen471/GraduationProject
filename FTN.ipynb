{
 "cells": [
  {
   "cell_type": "code",
   "execution_count": 1,
   "metadata": {},
   "outputs": [],
   "source": [
    "import numpy as np\n",
    "import torch as tc\n",
    "from itertools import permutations\n"
   ]
  },
  {
   "cell_type": "code",
   "execution_count": 2,
   "metadata": {},
   "outputs": [
    {
     "name": "stdout",
     "output_type": "stream",
     "text": [
      "逆序数是: 4\n"
     ]
    }
   ],
   "source": [
    "def merge_and_count(arr, temp_arr, left, mid, right):\n",
    "    i = left    # 左子数组的起始索引\n",
    "    j = mid + 1 # 右子数组的起始索引\n",
    "    k = left    # 合并后的数组的起始索引\n",
    "    inv_count = 0\n",
    "\n",
    "    while i <= mid and j <= right:\n",
    "        if arr[i] <= arr[j]:\n",
    "            temp_arr[k] = arr[i]\n",
    "            i += 1\n",
    "        else:\n",
    "            temp_arr[k] = arr[j]\n",
    "            inv_count += (mid - i + 1)  # 计算逆序数\n",
    "            j += 1\n",
    "        k += 1\n",
    "\n",
    "    # 遍历左子序列中剩下的\n",
    "    while i <= mid:\n",
    "        temp_arr[k] = arr[i]\n",
    "        i += 1\n",
    "        k += 1\n",
    "\n",
    "    # 遍历右子序列中剩下的\n",
    "    while j <= right:\n",
    "        temp_arr[k] = arr[j]\n",
    "        j += 1\n",
    "        k += 1\n",
    "\n",
    "    for i in range(left, right + 1):\n",
    "        arr[i] = temp_arr[i]\n",
    "\n",
    "    return inv_count\n",
    "\n",
    "def merge_sort_and_count(arr, temp_arr, left, right):\n",
    "    temp_arr = [0] * len(arr)\n",
    "    inv_count = 0\n",
    "    if left < right:\n",
    "        mid = (left + right) // 2\n",
    "\n",
    "        inv_count += merge_sort_and_count(arr, temp_arr, left, mid)\n",
    "        inv_count += merge_sort_and_count(arr, temp_arr, mid + 1, right)\n",
    "        inv_count += merge_and_count(arr, temp_arr, left, mid, right)\n",
    "\n",
    "    return inv_count\n",
    "\n",
    "# 示例用法\n",
    "arr = [5, 1, 2, 3, 4]\n",
    "temp_arr = [0] * len(arr)\n",
    "result = merge_sort_and_count(arr, temp_arr, 0, len(arr) - 1)\n",
    "print(f\"逆序数是: {result}\")"
   ]
  },
  {
   "cell_type": "code",
   "execution_count": 42,
   "metadata": {},
   "outputs": [],
   "source": [
    "def select_base(n:int, base_type:str):\n",
    "    if base_type == 'Fourier':\n",
    "        funcs = []\n",
    "        for i in range(0, n):\n",
    "            funcs.append(lambda r: tc.exp(1j*i*r) / pow(2 * tc.pi, 0.5))\n",
    "    return funcs\n",
    "\n",
    "def base_funcs(n:int, base_type:str, r_list:list):\n",
    "    funcs = select_base(n, base_type)\n",
    "    func_value = tc.zeros(size=(n, n), dtype=r_list[0].dtype)\n",
    "    for i, func in enumerate(funcs):\n",
    "        for j, r in enumerate(r_list):\n",
    "            func_value[i, j] = func(r)\n",
    "    return func_value\n",
    "\n",
    "def contract(C_mps:list, phi_list:list):\n",
    "    psi_ = 1\n",
    "    for i in range(len(C_mps)):\n",
    "        # print(C_mps[i].squeeze().shape)\n",
    "        # print(phi_list[i].squeeze().shape)\n",
    "        psi_ = psi_ * tc.einsum('i, i->', C_mps[i].squeeze(), phi_list[i].squeeze())\n",
    "    return psi_\n",
    "\n",
    "def test_func_symmetre(n:int, C_mps:list, base_type:str, r_list:list):\n",
    "    func_value = base_funcs(n, base_type, r_list)\n",
    "    # C_mps = list(10*tc.rand(size=(1, n, 1), dtype=r_list[0].dtype) for _ in range(n))\n",
    "    psi = 0\n",
    "    for perm in permutations(range(n), n):\n",
    "        inv_count = merge_sort_and_count(list(perm), [0]*len(perm), 0, len(perm) - 1)\n",
    "        phi_list = [func_value[:, i] for i in (perm)]\n",
    "        psi = psi + contract(C_mps, phi_list) * (-1)**(inv_count)\n",
    "    return psi"
   ]
  },
  {
   "cell_type": "code",
   "execution_count": 49,
   "metadata": {},
   "outputs": [
    {
     "name": "stdout",
     "output_type": "stream",
     "text": [
      "tensor(0.-8.j)\n",
      "tensor(0.+8.j)\n"
     ]
    }
   ],
   "source": [
    "r = [10 * i * tc.ones([1,], dtype=tc.complex64) * tc.pi for i in range(4)]\n",
    "C_mps = list(100*tc.rand(size=(1, 4, 1), dtype=r[0].dtype) for _ in range(4))\n",
    "func_value = test_func_symmetre(n=4, C_mps=C_mps, base_type='Fourier', r_list=r)\n",
    "print(func_value)\n",
    "r_ = [r[1], r[0], r[2], r[3]]\n",
    "func_value = test_func_symmetre(n=4, C_mps=C_mps, base_type='Fourier', r_list=r_)\n",
    "print(func_value)\n"
   ]
  }
 ],
 "metadata": {
  "kernelspec": {
   "display_name": "myname",
   "language": "python",
   "name": "python3"
  },
  "language_info": {
   "codemirror_mode": {
    "name": "ipython",
    "version": 3
   },
   "file_extension": ".py",
   "mimetype": "text/x-python",
   "name": "python",
   "nbconvert_exporter": "python",
   "pygments_lexer": "ipython3",
   "version": "3.9.19"
  }
 },
 "nbformat": 4,
 "nbformat_minor": 2
}
