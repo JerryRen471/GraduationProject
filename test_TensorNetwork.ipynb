{
 "cells": [
  {
   "cell_type": "markdown",
   "metadata": {},
   "source": [
    "## 测试mps态"
   ]
  },
  {
   "cell_type": "code",
   "execution_count": 1,
   "metadata": {},
   "outputs": [],
   "source": [
    "import Library.TensorNetwork as TN\n",
    "import torch as tc"
   ]
  },
  {
   "cell_type": "code",
   "execution_count": 2,
   "metadata": {},
   "outputs": [
    {
     "name": "stdout",
     "output_type": "stream",
     "text": [
      "tensor([1.0000, 1.0000])\n",
      "1\n",
      "tensor([1.0000+0.j, 1.0000+0.j])\n"
     ]
    }
   ],
   "source": [
    "mps = TN.rand_mps_pack(number=2, length=3, chi=4, phydim=2)\n",
    "print(mps.get_norm())\n",
    "print(mps.center)\n",
    "print(TN.inner_mps_pack(mps, mps))"
   ]
  },
  {
   "cell_type": "markdown",
   "metadata": {},
   "source": [
    "将大张量表示的量子态转化为mps态，并计算误差"
   ]
  },
  {
   "cell_type": "code",
   "execution_count": 3,
   "metadata": {},
   "outputs": [
    {
     "name": "stdout",
     "output_type": "stream",
     "text": [
      "torch.Size([2, 2, 2, 2])\n",
      "torch.Size([2, 1, 2, 2, 2, 1])\n",
      "tensor(3.3790e-07)\n"
     ]
    }
   ],
   "source": [
    "number = 2\n",
    "length = 3\n",
    "dtype = tc.complex64\n",
    "device = tc.device('cpu')\n",
    "shape = [number, 2 ** length]\n",
    "states = tc.randn(shape, dtype=dtype, device=device)\n",
    "shape_ = [number] + [2]*length\n",
    "norm = tc.sum(states * states.conj(), dim=1, keepdim=True)\n",
    "states = states / tc.sqrt(norm)\n",
    "states = states.reshape(shape_)\n",
    "print(states.shape)\n",
    "mps_ = TN.TensorTrain_pack(tensor_packs=[states], length=length, phydim=2, center=-1, chi=8, device=device, dtype=dtype, initialize=True)\n",
    "mps_copy = TN.copy_from_mps_pack(mps_)\n",
    "mps_copy.merge_all()\n",
    "print(mps_copy.node_list[0].shape)\n",
    "print(tc.dist(mps_copy.node_list[0].squeeze(), states))"
   ]
  },
  {
   "cell_type": "markdown",
   "metadata": {},
   "source": [
    "将n体门转化为mpo，并计算和转化前的误差"
   ]
  },
  {
   "cell_type": "code",
   "execution_count": 4,
   "metadata": {},
   "outputs": [
    {
     "name": "stdout",
     "output_type": "stream",
     "text": [
      "[2, 2, 2, 2, 2, 2]\n",
      "\n",
      "torch.Size([1, 2, 2, 4])\n",
      "torch.Size([4, 2, 2, 4])\n",
      "torch.Size([4, 2, 2, 1])\n",
      "torch.Size([2, 2, 2, 2, 2, 2])\n",
      "tensor(0.)\n"
     ]
    }
   ],
   "source": [
    "n = 3\n",
    "shape = [2] * (n*2)\n",
    "n_body_op = tc.rand(shape, dtype=dtype, device=device)\n",
    "print(list(n_body_op.shape))\n",
    "gate_list = TN.n_body_gate_to_mpo(n_body_op, n, dtype=dtype, device=device)\n",
    "print('')\n",
    "for gate in gate_list:\n",
    "    print(gate.shape)\n",
    "gate_U = tc.einsum('abcd, defg, ghij -> abehcfij', gate_list[0], gate_list[1], gate_list[2])\n",
    "print(gate_U.squeeze().shape)\n",
    "print(tc.dist(gate_U.squeeze(), n_body_op))"
   ]
  },
  {
   "cell_type": "code",
   "execution_count": 7,
   "metadata": {},
   "outputs": [
    {
     "name": "stdout",
     "output_type": "stream",
     "text": [
      "torch.Size([3, 2, 2, 2, 2, 2])\n",
      "[2, 2, 2, 2]\n",
      "\n",
      "torch.Size([3, 2, 2, 2, 2, 2])\n",
      "torch.Size([3, 1, 2, 2, 2, 2, 2, 1])\n",
      "tensor(1.2196)\n"
     ]
    }
   ],
   "source": [
    "number = 3\n",
    "length = 5\n",
    "dtype = tc.complex64\n",
    "device = tc.device('cpu')\n",
    "shape = [number, 2 ** length]\n",
    "states = tc.randn(shape, dtype=dtype, device=device)\n",
    "shape_ = [number] + [2]*length\n",
    "norm = tc.sum(states * states.conj(), dim=1, keepdim=True)\n",
    "states = states / tc.sqrt(norm)\n",
    "states = states.reshape(shape_)\n",
    "print(states.shape)\n",
    "mps = TN.TensorTrain_pack(tensor_packs=[states], length=length, phydim=2, center=-1, chi=8, device=device, dtype=dtype, initialize=True)\n",
    "n = 2\n",
    "shape = [2] * (n*2)\n",
    "n_body_op = tc.rand(shape, dtype=dtype, device=device)\n",
    "print(list(n_body_op.shape))\n",
    "gate_list = TN.n_body_gate_to_mpo(n_body_op, n, dtype=dtype, device=device)\n",
    "states_ = states.reshape([number] + [2 ** n] + [-1])\n",
    "gate_U = n_body_op.reshape([2 ** n, 2 ** n])\n",
    "states_act_U = tc.einsum('ij, njk -> nik', gate_U, states_)\n",
    "states_act_U = states_act_U.reshape([number] + [2]*length)\n",
    "print()\n",
    "print(states_act_U.shape)\n",
    "mps_act_U = mps.act_two_body_gate(n_body_op, [0, 1])\n",
    "mps_act_U.merge_all()\n",
    "print(mps_act_U.node_list[0].shape)\n",
    "print(tc.dist(mps_act_U.node_list[0].squeeze(), states_act_U))"
   ]
  }
 ],
 "metadata": {
  "kernelspec": {
   "display_name": "myname",
   "language": "python",
   "name": "python3"
  },
  "language_info": {
   "codemirror_mode": {
    "name": "ipython",
    "version": 3
   },
   "file_extension": ".py",
   "mimetype": "text/x-python",
   "name": "python",
   "nbconvert_exporter": "python",
   "pygments_lexer": "ipython3",
   "version": "3.9.19"
  }
 },
 "nbformat": 4,
 "nbformat_minor": 2
}
