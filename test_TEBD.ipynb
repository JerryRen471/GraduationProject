{
 "cells": [
  {
   "cell_type": "code",
   "execution_count": 1,
   "metadata": {},
   "outputs": [],
   "source": [
    "from Library.TEBD import *"
   ]
  },
  {
   "cell_type": "code",
   "execution_count": 2,
   "metadata": {},
   "outputs": [
    {
     "name": "stdout",
     "output_type": "stream",
     "text": [
      "[[0, 1, 2], [1, 2, 3], [1, 2, 3], [0, 1, 2]]\n"
     ]
    }
   ],
   "source": [
    "pos_sq = gen_1d_pos_sequence(length=4, single_pos=[0,1,2], repeat_interval=1)\n",
    "print(pos_sq)"
   ]
  },
  {
   "cell_type": "code",
   "execution_count": 3,
   "metadata": {},
   "outputs": [],
   "source": [
    "import torch as tc"
   ]
  },
  {
   "cell_type": "code",
   "execution_count": 4,
   "metadata": {},
   "outputs": [],
   "source": [
    "h1 = tc.tensor([[1, 0], [0, -1]], dtype=tc.complex128)\n",
    "h2 = tc.kron(h1, h1)\n",
    "para = {\n",
    "    'device': 'cpu',\n",
    "    'dtype': tc.complex128,\n",
    "}\n",
    "P = tc.zeros([2, 2], device=para['device'], dtype=para['dtype'])\n",
    "P[0, 0] = 1+0.j\n",
    "sigma_x = tc.zeros([2, 2], device=para['device'], dtype=para['dtype'])\n",
    "sigma_x[0, 1] = sigma_x[1, 0] = 1+0.j\n",
    "hamilt = tc.kron(P, tc.kron(sigma_x, P))\n",
    "hamilt = hamilt.reshape([2]*6)\n",
    "pos_sq = gen_1d_pos_sequence(length=5, single_pos=[0,1,2], repeat_interval=1)\n",
    "Hamiltonian = {\n",
    "    'Hi': [hamilt],\n",
    "    'pos': [pos_sq],\n",
    "    }"
   ]
  },
  {
   "cell_type": "code",
   "execution_count": 5,
   "metadata": {},
   "outputs": [],
   "source": [
    "import Library.TensorNetwork as TN"
   ]
  },
  {
   "cell_type": "code",
   "execution_count": 6,
   "metadata": {},
   "outputs": [
    {
     "name": "stdout",
     "output_type": "stream",
     "text": [
      "torch.Size([2, 1, 2, 2])\n",
      "torch.Size([2, 2, 2, 4])\n",
      "torch.Size([2, 4, 2, 4])\n",
      "torch.Size([2, 4, 2, 2])\n",
      "torch.Size([2, 2, 2, 1])\n",
      "16\n",
      "0.04\n",
      "0.08\n"
     ]
    }
   ],
   "source": [
    "init_states = TN.rand_mps_pack(2, length=5, chi=16, phydim=2)\n",
    "for node in init_states.node_list:\n",
    "    print(node.shape)\n",
    "print(init_states.chi)\n",
    "result = TEBD(Hamiltonian=Hamiltonian, tau=0.02, time_tot=0.1, print_time=0.04, init_mps=init_states, obs=[])\n"
   ]
  },
  {
   "cell_type": "code",
   "execution_count": 7,
   "metadata": {},
   "outputs": [],
   "source": [
    "from TN_WorkFlow.TimeEvol import PXP_mul_states_evl"
   ]
  },
  {
   "cell_type": "code",
   "execution_count": 8,
   "metadata": {},
   "outputs": [
    {
     "ename": "TypeError",
     "evalue": "TEBD() got an unexpected keyword argument 't_steps'",
     "output_type": "error",
     "traceback": [
      "\u001b[0;31m---------------------------------------------------------------------------\u001b[0m",
      "\u001b[0;31mTypeError\u001b[0m                                 Traceback (most recent call last)",
      "Cell \u001b[0;32mIn[8], line 8\u001b[0m\n\u001b[1;32m      1\u001b[0m para \u001b[38;5;241m=\u001b[39m {\n\u001b[1;32m      2\u001b[0m     \u001b[38;5;124m'\u001b[39m\u001b[38;5;124mtau\u001b[39m\u001b[38;5;124m'\u001b[39m: \u001b[38;5;241m0.02\u001b[39m,\n\u001b[1;32m      3\u001b[0m     \u001b[38;5;124m'\u001b[39m\u001b[38;5;124mtime_tot\u001b[39m\u001b[38;5;124m'\u001b[39m: \u001b[38;5;241m0.1\u001b[39m,\n\u001b[0;32m   (...)\u001b[0m\n\u001b[1;32m      6\u001b[0m     \u001b[38;5;124m'\u001b[39m\u001b[38;5;124mdevice\u001b[39m\u001b[38;5;124m'\u001b[39m: tc\u001b[38;5;241m.\u001b[39mdevice(\u001b[38;5;124m'\u001b[39m\u001b[38;5;124mcpu\u001b[39m\u001b[38;5;124m'\u001b[39m),\n\u001b[1;32m      7\u001b[0m }\n\u001b[0;32m----> 8\u001b[0m evol_states \u001b[38;5;241m=\u001b[39m \u001b[43mPXP_mul_states_evl\u001b[49m\u001b[43m(\u001b[49m\u001b[43minit_states\u001b[49m\u001b[43m,\u001b[49m\u001b[43m \u001b[49m\u001b[43mpara\u001b[49m\u001b[43m)\u001b[49m\n",
      "File \u001b[0;32m/data/run01/scv7454/GraduationProject/TN_WorkFlow/TimeEvol.py:47\u001b[0m, in \u001b[0;36mPXP_mul_states_evl\u001b[0;34m(states, para)\u001b[0m\n\u001b[1;32m     45\u001b[0m hamilt \u001b[38;5;241m=\u001b[39m tc\u001b[38;5;241m.\u001b[39mkron(P, tc\u001b[38;5;241m.\u001b[39mkron(sigma_x, P))\n\u001b[1;32m     46\u001b[0m hamilt_dict \u001b[38;5;241m=\u001b[39m gen_1d_hamilt_dict(length\u001b[38;5;241m=\u001b[39mpara[\u001b[38;5;124m'\u001b[39m\u001b[38;5;124mlength\u001b[39m\u001b[38;5;124m'\u001b[39m], hamilt_list\u001b[38;5;241m=\u001b[39m[hamilt], single_pos_list\u001b[38;5;241m=\u001b[39m[[\u001b[38;5;241m0\u001b[39m,\u001b[38;5;241m1\u001b[39m,\u001b[38;5;241m2\u001b[39m]])\n\u001b[0;32m---> 47\u001b[0m evol_states \u001b[38;5;241m=\u001b[39m \u001b[43mTEBD\u001b[49m\u001b[43m(\u001b[49m\u001b[43mhamilt_dict\u001b[49m\u001b[43m,\u001b[49m\u001b[43m \u001b[49m\u001b[43mtau\u001b[49m\u001b[38;5;241;43m=\u001b[39;49m\u001b[43mpara\u001b[49m\u001b[43m[\u001b[49m\u001b[38;5;124;43m'\u001b[39;49m\u001b[38;5;124;43mtau\u001b[39;49m\u001b[38;5;124;43m'\u001b[39;49m\u001b[43m]\u001b[49m\u001b[43m,\u001b[49m\u001b[43m \u001b[49m\u001b[43mt_steps\u001b[49m\u001b[38;5;241;43m=\u001b[39;49m\u001b[43mpara\u001b[49m\u001b[43m[\u001b[49m\u001b[38;5;124;43m'\u001b[39;49m\u001b[38;5;124;43mprint_time\u001b[39;49m\u001b[38;5;124;43m'\u001b[39;49m\u001b[43m]\u001b[49m\u001b[43m,\u001b[49m\u001b[43m \u001b[49m\u001b[43minit_mps\u001b[49m\u001b[38;5;241;43m=\u001b[39;49m\u001b[43mstates\u001b[49m\u001b[43m,\u001b[49m\u001b[43m \u001b[49m\u001b[43mobs\u001b[49m\u001b[38;5;241;43m=\u001b[39;49m\u001b[43m[\u001b[49m\u001b[43m]\u001b[49m\u001b[43m)\u001b[49m\n\u001b[1;32m     48\u001b[0m \u001b[38;5;28;01mreturn\u001b[39;00m evol_states\n",
      "\u001b[0;31mTypeError\u001b[0m: TEBD() got an unexpected keyword argument 't_steps'"
     ]
    }
   ],
   "source": [
    "para = {\n",
    "    'tau': 0.02,\n",
    "    'time_tot': 0.1,\n",
    "    'print_time': 0.04,\n",
    "    'length': 5,\n",
    "    'device': tc.device('cpu'),\n",
    "}\n",
    "evol_states = PXP_mul_states_evl(init_states, para)"
   ]
  }
 ],
 "metadata": {
  "kernelspec": {
   "display_name": "myname",
   "language": "python",
   "name": "python3"
  },
  "language_info": {
   "codemirror_mode": {
    "name": "ipython",
    "version": 3
   },
   "file_extension": ".py",
   "mimetype": "text/x-python",
   "name": "python",
   "nbconvert_exporter": "python",
   "pygments_lexer": "ipython3",
   "version": "3.9.19"
  }
 },
 "nbformat": 4,
 "nbformat_minor": 2
}
