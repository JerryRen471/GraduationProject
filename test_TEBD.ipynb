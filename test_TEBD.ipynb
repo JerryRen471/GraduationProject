{
 "cells": [
  {
   "cell_type": "code",
   "execution_count": 1,
   "metadata": {},
   "outputs": [],
   "source": [
    "from Library.TEBD import *"
   ]
  },
  {
   "cell_type": "code",
   "execution_count": 2,
   "metadata": {},
   "outputs": [
    {
     "name": "stdout",
     "output_type": "stream",
     "text": [
      "[[0, 1, 2], [1, 2, 3], [1, 2, 3], [0, 1, 2]]\n"
     ]
    }
   ],
   "source": [
    "pos_sq = gen_1d_pos_sequence(length=4, single_pos=[0,1,2], repeat_interval=1)\n",
    "print(pos_sq)"
   ]
  },
  {
   "cell_type": "code",
   "execution_count": 3,
   "metadata": {},
   "outputs": [],
   "source": [
    "import torch as tc"
   ]
  },
  {
   "cell_type": "code",
   "execution_count": 4,
   "metadata": {},
   "outputs": [],
   "source": [
    "h1 = tc.tensor([[1, 0], [0, -1]], dtype=tc.complex128)\n",
    "h2 = tc.kron(h1, h1)\n",
    "para = {\n",
    "    'device': 'cpu',\n",
    "    'dtype': tc.complex128,\n",
    "}\n",
    "P = tc.zeros([2, 2], device=para['device'], dtype=para['dtype'])\n",
    "P[0, 0] = 1+0.j\n",
    "sigma_x = tc.zeros([2, 2], device=para['device'], dtype=para['dtype'])\n",
    "sigma_x[0, 1] = sigma_x[1, 0] = 1+0.j\n",
    "hamilt = tc.kron(P, tc.kron(sigma_x, P))\n",
    "hamilt = hamilt.reshape([2]*6)\n",
    "pos_sq = gen_1d_pos_sequence(length=5, single_pos=[0,1,2], repeat_interval=1)\n",
    "Hamiltonian = {\n",
    "    'Hi': [hamilt],\n",
    "    'pos': [pos_sq],\n",
    "    }"
   ]
  },
  {
   "cell_type": "code",
   "execution_count": 5,
   "metadata": {},
   "outputs": [],
   "source": [
    "import Library.TensorNetwork as TN"
   ]
  },
  {
   "cell_type": "code",
   "execution_count": 7,
   "metadata": {},
   "outputs": [
    {
     "name": "stdout",
     "output_type": "stream",
     "text": [
      "torch.Size([2, 1, 2, 2])\n",
      "torch.Size([2, 2, 2, 4])\n",
      "torch.Size([2, 4, 2, 4])\n",
      "torch.Size([2, 4, 2, 2])\n",
      "torch.Size([2, 2, 2, 1])\n",
      "16\n",
      "--------------------\n",
      "t =  0.0\n",
      "node_ 0 .shape= torch.Size([2, 1, 2, 2])\n",
      "node_ 1 .shape= torch.Size([2, 2, 2, 8])\n",
      "node_ 2 .shape= torch.Size([2, 8, 2, 4])\n",
      "node_ 3 .shape= torch.Size([2, 4, 2, 2])\n",
      "node_ 4 .shape= torch.Size([2, 2, 2, 1])\n",
      "--------------------\n",
      "t =  0.02\n",
      "node_ 0 .shape= torch.Size([2, 1, 2, 2])\n",
      "node_ 1 .shape= torch.Size([2, 2, 2, 8])\n",
      "node_ 2 .shape= torch.Size([2, 8, 2, 4])\n",
      "node_ 3 .shape= torch.Size([2, 4, 2, 2])\n",
      "node_ 4 .shape= torch.Size([2, 2, 2, 1])\n",
      "--------------------\n",
      "t =  0.04\n",
      "node_ 0 .shape= torch.Size([2, 1, 2, 2])\n",
      "node_ 1 .shape= torch.Size([2, 2, 2, 8])\n",
      "node_ 2 .shape= torch.Size([2, 8, 2, 4])\n",
      "node_ 3 .shape= torch.Size([2, 4, 2, 2])\n",
      "node_ 4 .shape= torch.Size([2, 2, 2, 1])\n"
     ]
    },
    {
     "name": "stdout",
     "output_type": "stream",
     "text": [
      "--------------------\n",
      "t =  0.06\n",
      "node_ 0 .shape= torch.Size([2, 1, 2, 2])\n",
      "node_ 1 .shape= torch.Size([2, 2, 2, 8])\n",
      "node_ 2 .shape= torch.Size([2, 8, 2, 4])\n",
      "node_ 3 .shape= torch.Size([2, 4, 2, 2])\n",
      "node_ 4 .shape= torch.Size([2, 2, 2, 1])\n",
      "--------------------\n",
      "t =  0.08\n",
      "node_ 0 .shape= torch.Size([2, 1, 2, 2])\n",
      "node_ 1 .shape= torch.Size([2, 2, 2, 8])\n",
      "node_ 2 .shape= torch.Size([2, 8, 2, 4])\n",
      "node_ 3 .shape= torch.Size([2, 4, 2, 2])\n",
      "node_ 4 .shape= torch.Size([2, 2, 2, 1])\n",
      "--------------------\n",
      "t =  0.1\n",
      "node_ 0 .shape= torch.Size([2, 1, 2, 2])\n",
      "node_ 1 .shape= torch.Size([2, 2, 2, 8])\n",
      "node_ 2 .shape= torch.Size([2, 8, 2, 4])\n",
      "node_ 3 .shape= torch.Size([2, 4, 2, 2])\n",
      "node_ 4 .shape= torch.Size([2, 2, 2, 1])\n",
      "--------------------\n",
      "t =  0.12\n",
      "node_ 0 .shape= torch.Size([2, 1, 2, 2])\n",
      "node_ 1 .shape= torch.Size([2, 2, 2, 8])\n",
      "node_ 2 .shape= torch.Size([2, 8, 2, 4])\n",
      "node_ 3 .shape= torch.Size([2, 4, 2, 2])\n",
      "node_ 4 .shape= torch.Size([2, 2, 2, 1])\n",
      "--------------------\n",
      "t =  0.14\n",
      "node_ 0 .shape= torch.Size([2, 1, 2, 2])\n",
      "node_ 1 .shape= torch.Size([2, 2, 2, 8])\n",
      "node_ 2 .shape= torch.Size([2, 8, 2, 4])\n",
      "node_ 3 .shape= torch.Size([2, 4, 2, 2])\n",
      "node_ 4 .shape= torch.Size([2, 2, 2, 1])\n",
      "--------------------\n",
      "t =  0.16\n",
      "node_ 0 .shape= torch.Size([2, 1, 2, 2])\n",
      "node_ 1 .shape= torch.Size([2, 2, 2, 8])\n",
      "node_ 2 .shape= torch.Size([2, 8, 2, 4])\n",
      "node_ 3 .shape= torch.Size([2, 4, 2, 2])\n",
      "node_ 4 .shape= torch.Size([2, 2, 2, 1])\n",
      "--------------------\n",
      "t =  0.18\n",
      "node_ 0 .shape= torch.Size([2, 1, 2, 2])\n",
      "node_ 1 .shape= torch.Size([2, 2, 2, 8])\n",
      "node_ 2 .shape= torch.Size([2, 8, 2, 4])\n",
      "node_ 3 .shape= torch.Size([2, 4, 2, 2])\n",
      "node_ 4 .shape= torch.Size([2, 2, 2, 1])\n",
      "--------------------\n",
      "t =  0.2\n",
      "node_ 0 .shape= torch.Size([2, 1, 2, 2])\n",
      "node_ 1 .shape= torch.Size([2, 2, 2, 8])\n",
      "node_ 2 .shape= torch.Size([2, 8, 2, 4])\n",
      "node_ 3 .shape= torch.Size([2, 4, 2, 2])\n",
      "node_ 4 .shape= torch.Size([2, 2, 2, 1])\n"
     ]
    }
   ],
   "source": [
    "init_states = TN.rand_mps_pack(2, length=5, chi=16, phydim=2)\n",
    "for node in init_states.node_list:\n",
    "    print(node.shape)\n",
    "print(init_states.chi)\n",
    "result = TEBD(Hamiltonian=Hamiltonian, tau=0.02, t_steps=[0, 0.2], init_mps=init_states, obs=[])\n"
   ]
  }
 ],
 "metadata": {
  "kernelspec": {
   "display_name": "myname",
   "language": "python",
   "name": "python3"
  },
  "language_info": {
   "codemirror_mode": {
    "name": "ipython",
    "version": 3
   },
   "file_extension": ".py",
   "mimetype": "text/x-python",
   "name": "python",
   "nbconvert_exporter": "python",
   "pygments_lexer": "ipython3",
   "version": "3.9.19"
  }
 },
 "nbformat": 4,
 "nbformat_minor": 2
}
