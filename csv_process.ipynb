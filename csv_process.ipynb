{
 "cells": [
  {
   "cell_type": "markdown",
   "metadata": {},
   "source": [
    "# 处理csv文件\n",
    "1. 提取\n",
    "2. 合并\n",
    "3. 排序"
   ]
  },
  {
   "cell_type": "code",
   "execution_count": 6,
   "metadata": {},
   "outputs": [
    {
     "name": "stdout",
     "output_type": "stream",
     "text": [
      "合并后的 DataFrame 中重复的行数: 0\n",
      "Index(['model_name', 'length', 'evol_num', 'sample_num', 'time_interval',\n",
      "       'loss_type', 'data_type', 'J', 'delta', 'lamda', 'train_loss',\n",
      "       'test_loss', 'train_fide', 'test_fide', 'gate_fidelity', 'similarity',\n",
      "       'spectrum_diff', 'H_diff', 'lambda'],\n",
      "      dtype='object')\n"
     ]
    }
   ],
   "source": [
    "import pandas as pd\n",
    "\n",
    "def concat_df(df1, df2):\n",
    "    return pd.concat([df1, df2], axis=0, ignore_index=True, join='outer')\n",
    "\n",
    "file_path = '/data/home/scv7454/run/GraduationProject/Data/xorX_(J=1.0)(delta=0.1)(lambda=1.0).csv'\n",
    "df = pd.read_csv(file_path)\n",
    "# print(df)\n",
    "\n",
    "RK_column = df[df['data_type'] == 'RK']\n",
    "# print(RK_column)\n",
    "\n",
    "file_path2 = '/data/home/scv7454/run/GraduationProject/Data/xorX_(J=1.0)(delta=0.1)(lamda=1.0).csv'\n",
    "df2 = pd.read_csv(file_path2)\n",
    "# print(df2)\n",
    "\n",
    "# 合并 RK_column 到 df2 中\n",
    "merged_df = pd.concat([df2, RK_column], axis=0, ignore_index=True, join='outer')\n",
    "\n",
    "# 检查合并后的 DataFrame 中是否包含重复的行\n",
    "duplicate_rows = merged_df.duplicated()  # 返回布尔 Series\n",
    "num_duplicates = duplicate_rows.sum()  # 计算重复行的数量\n",
    "\n",
    "print(f\"合并后的 DataFrame 中重复的行数: {num_duplicates}\")\n",
    "\n",
    "print(merged_df.columns)\n",
    "\n",
    "# 将合并后的 DataFrame 保存到新的 CSV 文件\n",
    "output_file_path = '/data/home/scv7454/run/GraduationProject/Data/merged_file.csv'\n",
    "# merged_df.to_csv(output_file_path, index=False)\n"
   ]
  }
 ],
 "metadata": {
  "kernelspec": {
   "display_name": "myname",
   "language": "python",
   "name": "python3"
  },
  "language_info": {
   "codemirror_mode": {
    "name": "ipython",
    "version": 3
   },
   "file_extension": ".py",
   "mimetype": "text/x-python",
   "name": "python",
   "nbconvert_exporter": "python",
   "pygments_lexer": "ipython3",
   "version": "3.9.19"
  }
 },
 "nbformat": 4,
 "nbformat_minor": 2
}
